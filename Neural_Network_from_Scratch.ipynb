{
  "nbformat": 4,
  "nbformat_minor": 0,
  "metadata": {
    "colab": {
      "name": "Neural_Network_from_Scratch.ipynb",
      "provenance": [],
      "include_colab_link": true
    },
    "kernelspec": {
      "name": "python3",
      "display_name": "Python 3"
    }
  },
  "cells": [
    {
      "cell_type": "markdown",
      "metadata": {
        "id": "view-in-github",
        "colab_type": "text"
      },
      "source": [
        "<a href=\"https://colab.research.google.com/github/Rakesh-Online/NN_From_Scratch_Numpy/blob/master/Neural_Network_from_Scratch.ipynb\" target=\"_parent\"><img src=\"https://colab.research.google.com/assets/colab-badge.svg\" alt=\"Open In Colab\"/></a>"
      ]
    },
    {
      "cell_type": "markdown",
      "metadata": {
        "id": "XmGqm9hZWp_c",
        "colab_type": "text"
      },
      "source": [
        "Building Neural network from scratch with numpy "
      ]
    },
    {
      "cell_type": "code",
      "metadata": {
        "id": "YelGkpEwRGV_",
        "colab_type": "code",
        "colab": {
          "base_uri": "https://localhost:8080/",
          "height": 118
        },
        "outputId": "0ba207fa-4c1e-4e30-87db-c475b16c5203"
      },
      "source": [
        "import numpy as np \n",
        "X= np.array([[1,0,1,0],[1,0,1,1],[0,1,0,1]])\n",
        "\n",
        "y = np.array([[1],[1],[0]])\n",
        "\n",
        "print(X)\n",
        "print(y)"
      ],
      "execution_count": 19,
      "outputs": [
        {
          "output_type": "stream",
          "text": [
            "[[1 0 1 0]\n",
            " [1 0 1 1]\n",
            " [0 1 0 1]]\n",
            "[[1]\n",
            " [1]\n",
            " [0]]\n"
          ],
          "name": "stdout"
        }
      ]
    },
    {
      "cell_type": "code",
      "metadata": {
        "id": "AFm8f1nmSTrK",
        "colab_type": "code",
        "colab": {}
      },
      "source": [
        "# initializing the variables\n",
        "epoch=5000 # number of training iterations\n",
        "lr=0.1 # learning rate\n",
        "inputlayer_neurons = X.shape[1] # number of features in data set\n",
        "hiddenlayer_neurons = 3 # number of hidden layers neurons\n",
        "output_neurons = 1 # number of neurons at output layer"
      ],
      "execution_count": 20,
      "outputs": []
    },
    {
      "cell_type": "code",
      "metadata": {
        "id": "t3DrPmFKhbwE",
        "colab_type": "code",
        "colab": {}
      },
      "source": [
        "wh=np.random.uniform(size=(inputlayer_neurons,hiddenlayer_neurons))\n",
        "bh=np.random.uniform(size=(1,hiddenlayer_neurons))\n",
        "wout=np.random.uniform(size=(hiddenlayer_neurons,output_neurons))\n",
        "bout=np.random.uniform(size=(1,output_neurons))"
      ],
      "execution_count": 21,
      "outputs": []
    },
    {
      "cell_type": "code",
      "metadata": {
        "id": "QZOXG1iVS3Am",
        "colab_type": "code",
        "colab": {}
      },
      "source": [
        "#Activation function\n",
        "def sigmoid(x):\n",
        "  return 1/(1+np.exp(-x))\n",
        "\n",
        "def derivatives_sigmoid(x):\n",
        "    return x * (1 - x)"
      ],
      "execution_count": 22,
      "outputs": []
    },
    {
      "cell_type": "code",
      "metadata": {
        "id": "PbJzsknUTuHR",
        "colab_type": "code",
        "colab": {
          "base_uri": "https://localhost:8080/",
          "height": 101
        },
        "outputId": "a4fdebdc-8bfd-4715-ab92-55367626c00c"
      },
      "source": [
        "for i in range(epoch):\n",
        "\n",
        "    #Forward Propogation\n",
        "    hidden_layer_input1=np.dot(X,wh)\n",
        "    hidden_layer_input=hidden_layer_input1 + bh\n",
        "    hiddenlayer_activations = sigmoid(hidden_layer_input)\n",
        "    output_layer_input1=np.dot(hiddenlayer_activations,wout)\n",
        "    output_layer_input= output_layer_input1+ bout\n",
        "    output = sigmoid(output_layer_input)\n",
        "\n",
        "    #Backpropagation\n",
        "    E = y-output\n",
        "    slope_output_layer = derivatives_sigmoid(output)\n",
        "    slope_hidden_layer = derivatives_sigmoid(hiddenlayer_activations)\n",
        "    d_output = E * slope_output_layer\n",
        "    Error_at_hidden_layer = d_output.dot(wout.T)\n",
        "    d_hiddenlayer = Error_at_hidden_layer * slope_hidden_layer\n",
        "    wout += hiddenlayer_activations.T.dot(d_output) *lr\n",
        "    bout += np.sum(d_output, axis=0,keepdims=True) *lr\n",
        "    wh += X.T.dot(d_hiddenlayer) *lr\n",
        "    bh += np.sum(d_hiddenlayer, axis=0,keepdims=True) *lr\n",
        "print ('\\n Output from the model:')\n",
        "print (output)"
      ],
      "execution_count": 25,
      "outputs": [
        {
          "output_type": "stream",
          "text": [
            "\n",
            " Output from the model:\n",
            "[[0.98487898]\n",
            " [0.98068829]\n",
            " [0.02534597]]\n"
          ],
          "name": "stdout"
        }
      ]
    }
  ]
}